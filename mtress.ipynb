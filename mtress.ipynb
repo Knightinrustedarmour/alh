{
 "cells": [
  {
   "cell_type": "code",
   "execution_count": null,
   "id": "89aa95a1",
   "metadata": {},
   "outputs": [],
   "source": [
    "import yaml\n",
    "import oemof.solph\n",
    "\n",
    "from mtress._meta_model import Location"
   ]
  },
  {
   "cell_type": "code",
   "execution_count": null,
   "id": "aa6e5406",
   "metadata": {},
   "outputs": [],
   "source": [
    "cfg_string = \"\"\"\n",
    "locations:\n",
    "  LocationA:\n",
    "    energy_cost:\n",
    "      electricity:\n",
    "        demand_rate: 15000  # €/MW\n",
    "        working: 300  # €/MWh\n",
    "      gas:\n",
    "        working_price: 95  # €/MWh\n",
    "        demand_rate: 5.5  # €/MW\n",
    "      wood_pellet: 300  # €/MWh\n",
    "    \n",
    "    meteorology:\n",
    "      temp_air: meteo.csv:temp_air\n",
    "      temp_soil: meteo.csv:temp_soil\n",
    "    \n",
    "    energy_carriers:\n",
    "      Heat: # class name\n",
    "        reference_temperature: 10 # °C\n",
    "        temperature_levels:\n",
    "          - 35. # °C\n",
    "          - 60. # °C\n",
    "          - 80. # °C\n",
    "      Electricity:\n",
    "        grid_connection: True\n",
    "\n",
    "    demand:\n",
    "      electricity:\n",
    "        - level: 400.\n",
    "          values: demand.csv:lv_demand\n",
    "        - level: 20000.\n",
    "          values: demand.csv:mv_demand\n",
    "      heat:\n",
    "        - flow: 50.\n",
    "          return: 30.\n",
    "          values: demand.csv:heating\n",
    "        - flow: 65.\n",
    "          return: 40.\n",
    "          values: demand.csv:dhw_heat_exchanger\n",
    "        - flow: 65.\n",
    "          return: 10.\n",
    "          values: demand.csv:dhw_fresh_water_refill\n",
    "\n",
    "\"\"\""
   ]
  },
  {
   "cell_type": "code",
   "execution_count": null,
   "id": "755b7dc8",
   "metadata": {},
   "outputs": [],
   "source": [
    "cfg = yaml.safe_load(cfg_string)"
   ]
  },
  {
   "cell_type": "code",
   "execution_count": null,
   "id": "b584b5bd",
   "metadata": {},
   "outputs": [],
   "source": [
    "print(cfg)"
   ]
  },
  {
   "cell_type": "code",
   "execution_count": null,
   "id": "5a00e57f",
   "metadata": {},
   "outputs": [],
   "source": [
    "\n",
    "es = oemof.solph.EnergySystem()"
   ]
  },
  {
   "cell_type": "code",
   "execution_count": null,
   "id": "fe049ab8",
   "metadata": {},
   "outputs": [],
   "source": [
    "l = Location(\n",
    "    name=\"LocationA\",\n",
    "    energy_system=es,\n",
    "    meta_model=None,\n",
    "    config=cfg[\"locations\"][\"LocationA\"]\n",
    ")"
   ]
  },
  {
   "cell_type": "code",
   "execution_count": null,
   "id": "087dcfd4",
   "metadata": {},
   "outputs": [],
   "source": [
    "import graphviz\n",
    "import re\n",
    "\n",
    "# Define shapes for the component types\n",
    "SHAPES = {oemof.solph.Source: 'trapezium',\n",
    "          oemof.solph.Sink: 'invtrapezium',\n",
    "          oemof.solph.Bus: 'ellipse',\n",
    "          oemof.solph.Transformer: 'octagon',\n",
    "          oemof.solph.GenericStorage: 'cylinder'}\n",
    "\n",
    "def generate_graph(energysystem):\n",
    "    \"\"\"Generate graphviz graph from energysystem.\"\"\"\n",
    "    dot = graphviz.Digraph(format='png')\n",
    "    nodes = {}\n",
    "\n",
    "    for node in energysystem.nodes:\n",
    "        # Replace invalid characters\n",
    "        name = nodes[node] = re.sub(r'[^a-zA-Z0-9]+', '__', node.label)\n",
    "\n",
    "        dot.node(name, label=node.label, shape=SHAPES.get(type(node), 'rectangle'))\n",
    "\n",
    "    for node in energysystem.nodes:\n",
    "        for output in node.outputs:\n",
    "            dot.edge(nodes[node], nodes[output])\n",
    "    \n",
    "    return dot\n"
   ]
  },
  {
   "cell_type": "code",
   "execution_count": null,
   "id": "990f37cb",
   "metadata": {},
   "outputs": [],
   "source": [
    "generate_graph(l._energy_system)"
   ]
  },
  {
   "cell_type": "code",
   "execution_count": null,
   "id": "9e36a64f",
   "metadata": {},
   "outputs": [],
   "source": []
  }
 ],
 "metadata": {
  "interpreter": {
   "hash": "dcbc27de521dd0f1351d893a4043207b7c2b7677ba6a15a2e0b1e8e99b3a7c4a"
  },
  "kernelspec": {
   "display_name": "Python 3.10.4 64-bit ('oemof')",
   "language": "python",
   "name": "python3"
  },
  "language_info": {
   "codemirror_mode": {
    "name": "ipython",
    "version": 3
   },
   "file_extension": ".py",
   "mimetype": "text/x-python",
   "name": "python",
   "nbconvert_exporter": "python",
   "pygments_lexer": "ipython3",
   "version": "3.10.4"
  }
 },
 "nbformat": 4,
 "nbformat_minor": 5
}
