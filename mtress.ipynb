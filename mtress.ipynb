{
 "cells": [
  {
   "cell_type": "code",
   "execution_count": null,
   "id": "89aa95a1",
   "metadata": {},
   "outputs": [],
   "source": [
    "import yaml\n",
    "import oemof.solph\n",
    "\n",
    "from mtress import Location, MetaModel"
   ]
  },
  {
   "cell_type": "code",
   "execution_count": null,
   "id": "755b7dc8",
   "metadata": {},
   "outputs": [],
   "source": [
    "import pprint\n",
    "\n",
    "with open(\"example/test.yaml\") as fh:\n",
    "    cfg = yaml.safe_load(fh.read())\n",
    "\n",
    "# pprint.pprint(cfg)"
   ]
  },
  {
   "cell_type": "code",
   "execution_count": null,
   "id": "fe049ab8",
   "metadata": {},
   "outputs": [],
   "source": [
    "meta_model = MetaModel(config=cfg)"
   ]
  },
  {
   "cell_type": "code",
   "execution_count": null,
   "id": "087dcfd4",
   "metadata": {},
   "outputs": [],
   "source": [
    "from mtress._helpers._visualization import generate_graph"
   ]
  },
  {
   "cell_type": "code",
   "execution_count": null,
   "id": "990f37cb",
   "metadata": {},
   "outputs": [],
   "source": [
    "generate_graph(meta_model.energy_system)"
   ]
  },
  {
   "cell_type": "code",
   "execution_count": 7,
   "id": "79ab22af",
   "metadata": {},
   "outputs": [
    {
     "ename": "AttributeError",
     "evalue": "attribute '__isabstractmethod__' of 'property' objects is not writable",
     "output_type": "error",
     "traceback": [
      "\u001b[1;31m---------------------------------------------------------------------------\u001b[0m",
      "\u001b[1;31mAttributeError\u001b[0m                            Traceback (most recent call last)",
      "Cell \u001b[1;32mIn [7], line 13\u001b[0m\n\u001b[0;32m      8\u001b[0m     \u001b[38;5;129m@property\u001b[39m\n\u001b[0;32m      9\u001b[0m     \u001b[38;5;28;01mdef\u001b[39;00m \u001b[38;5;21midentifier\u001b[39m(\u001b[38;5;28mself\u001b[39m):\n\u001b[0;32m     10\u001b[0m         \u001b[38;5;28;01mreturn\u001b[39;00m \u001b[38;5;28mself\u001b[39m\u001b[38;5;241m.\u001b[39mname\n\u001b[1;32m---> 13\u001b[0m \u001b[38;5;28;01mclass\u001b[39;00m \u001b[38;5;21;01mB\u001b[39;00m:\n\u001b[0;32m     14\u001b[0m     \u001b[38;5;129m@abstractmethod\u001b[39m\n\u001b[0;32m     15\u001b[0m     \u001b[38;5;129m@property\u001b[39m\n\u001b[0;32m     16\u001b[0m     \u001b[38;5;28;01mdef\u001b[39;00m \u001b[38;5;21midentifier\u001b[39m(\u001b[38;5;28mself\u001b[39m):\n\u001b[0;32m     17\u001b[0m         \u001b[38;5;28;01mpass\u001b[39;00m\n",
      "Cell \u001b[1;32mIn [7], line 16\u001b[0m, in \u001b[0;36mB\u001b[1;34m()\u001b[0m\n\u001b[0;32m     13\u001b[0m \u001b[38;5;28;01mclass\u001b[39;00m \u001b[38;5;21;01mB\u001b[39;00m:\n\u001b[0;32m     14\u001b[0m \u001b[43m    \u001b[49m\u001b[38;5;129;43m@abstractmethod\u001b[39;49m\n\u001b[0;32m     15\u001b[0m \u001b[43m    \u001b[49m\u001b[38;5;129;43m@property\u001b[39;49m\n\u001b[1;32m---> 16\u001b[0m \u001b[43m    \u001b[49m\u001b[38;5;28;43;01mdef\u001b[39;49;00m\u001b[43m \u001b[49m\u001b[38;5;21;43midentifier\u001b[39;49m\u001b[43m(\u001b[49m\u001b[38;5;28;43mself\u001b[39;49m\u001b[43m)\u001b[49m\u001b[43m:\u001b[49m\n\u001b[0;32m     17\u001b[0m \u001b[43m        \u001b[49m\u001b[38;5;28;43;01mpass\u001b[39;49;00m\n\u001b[0;32m     19\u001b[0m     \u001b[38;5;28;01mdef\u001b[39;00m \u001b[38;5;21mfoo\u001b[39m(\u001b[38;5;28mself\u001b[39m, x):\n",
      "File \u001b[1;32mC:\\ProgramData\\mambaforge\\envs\\systogen100\\lib\\abc.py:24\u001b[0m, in \u001b[0;36mabstractmethod\u001b[1;34m(funcobj)\u001b[0m\n\u001b[0;32m      7\u001b[0m \u001b[38;5;28;01mdef\u001b[39;00m \u001b[38;5;21mabstractmethod\u001b[39m(funcobj):\n\u001b[0;32m      8\u001b[0m     \u001b[38;5;124;03m\"\"\"A decorator indicating abstract methods.\u001b[39;00m\n\u001b[0;32m      9\u001b[0m \n\u001b[0;32m     10\u001b[0m \u001b[38;5;124;03m    Requires that the metaclass is ABCMeta or derived from it.  A\u001b[39;00m\n\u001b[1;32m   (...)\u001b[0m\n\u001b[0;32m     22\u001b[0m \u001b[38;5;124;03m                ...\u001b[39;00m\n\u001b[0;32m     23\u001b[0m \u001b[38;5;124;03m    \"\"\"\u001b[39;00m\n\u001b[1;32m---> 24\u001b[0m     \u001b[43mfuncobj\u001b[49m\u001b[38;5;241;43m.\u001b[39;49m\u001b[43m__isabstractmethod__\u001b[49m \u001b[38;5;241m=\u001b[39m \u001b[38;5;28;01mTrue\u001b[39;00m\n\u001b[0;32m     25\u001b[0m     \u001b[38;5;28;01mreturn\u001b[39;00m funcobj\n",
      "\u001b[1;31mAttributeError\u001b[0m: attribute '__isabstractmethod__' of 'property' objects is not writable"
     ]
    }
   ],
   "source": [
    "from abc import ABC, abstractmethod\n",
    "\n",
    "class A:\n",
    "    def __init__(self, name):\n",
    "        print(f\"A: {name}\")\n",
    "        self.name = name\n",
    "\n",
    "    @property\n",
    "    def identifier(self):\n",
    "        return self.name\n",
    "\n",
    "\n",
    "class B:\n",
    "    @property\n",
    "    @abstractmethod\n",
    "    def identifier(self):\n",
    "        pass\n",
    "\n",
    "    def foo(self, x):\n",
    "        print(f\"B.bla(x={x})\")\n",
    "\n",
    "    def bar(self, y):\n",
    "        print(f\"B.bla(identifier={self.identifier}, y={y})\")\n",
    "    \n",
    "\n",
    "\n",
    "class C(A, B):\n",
    "    def __init__(self, name):\n",
    "        print(f\"C: {name}\")\n",
    "        super().__init__(name)\n",
    "    \n",
    "        \n"
   ]
  },
  {
   "cell_type": "code",
   "execution_count": 6,
   "id": "14db2799",
   "metadata": {},
   "outputs": [
    {
     "name": "stdout",
     "output_type": "stream",
     "text": [
      "C: blbu\n",
      "A: blbu\n",
      "B: foo\n"
     ]
    }
   ],
   "source": [
    "c = C(\"blbu\")\n",
    "c.bla(\"foo\")"
   ]
  },
  {
   "cell_type": "code",
   "execution_count": null,
   "id": "eac09422",
   "metadata": {},
   "outputs": [],
   "source": []
  }
 ],
 "metadata": {
  "interpreter": {
   "hash": "dcbc27de521dd0f1351d893a4043207b7c2b7677ba6a15a2e0b1e8e99b3a7c4a"
  },
  "kernelspec": {
   "display_name": "Python 3.10.4 64-bit ('oemof')",
   "language": "python",
   "name": "python3"
  },
  "language_info": {
   "codemirror_mode": {
    "name": "ipython",
    "version": 3
   },
   "file_extension": ".py",
   "mimetype": "text/x-python",
   "name": "python",
   "nbconvert_exporter": "python",
   "pygments_lexer": "ipython3",
   "version": "3.10.6"
  }
 },
 "nbformat": 4,
 "nbformat_minor": 5
}
