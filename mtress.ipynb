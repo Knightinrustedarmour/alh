{
 "cells": [
  {
   "cell_type": "code",
   "execution_count": null,
   "id": "89aa95a1",
   "metadata": {},
   "outputs": [],
   "source": [
    "from mtress import Location, MetaModel\n",
    "from mtress.carriers import Heat, Electricity\n",
    "from mtress.technologies import AirHeatExchanger, HeatPump\n",
    "from mtress._meta_model import SolphModel # TODO: clean up import\n",
    "from mtress._helpers._visualization import generate_graph"
   ]
  },
  {
   "cell_type": "code",
   "execution_count": null,
   "id": "755b7dc8",
   "metadata": {},
   "outputs": [],
   "source": [
    "location = Location(\"SFH\")\n",
    "\n",
    "# Add carriers\n",
    "heat_carrier = Heat([30,40], 0)\n",
    "electricity_carrier = Electricity()\n",
    "\n",
    "location.add_carrier(heat_carrier)\n",
    "location.add_carrier(electricity_carrier)\n",
    "\n",
    "# Add technologies\n",
    "air_heat_exchanger = AirHeatExchanger(\"air_heat_exchanger1\", air_temperatures=15., nominal_power=10)\n",
    "heat_pump = HeatPump(\"hp0\")\n",
    "\n",
    "location.add_technology(air_heat_exchanger)\n",
    "location.add_technology(heat_pump)\n",
    "\n",
    "# Generate metamodel with one location\n",
    "meta_model = MetaModel()\n",
    "meta_model.add_location(location)"
   ]
  },
  {
   "cell_type": "code",
   "execution_count": null,
   "id": "f1345ad1",
   "metadata": {},
   "outputs": [],
   "source": [
    "solph_model = SolphModel(meta_model=meta_model, timeindex={\"start\": \"2010-01-01\", \"end\": \"2010-02-01\", \"freq\":\"d\"})\n",
    "solph_model.build_solph_energy_system()"
   ]
  },
  {
   "cell_type": "code",
   "execution_count": null,
   "id": "52523582",
   "metadata": {},
   "outputs": [],
   "source": [
    "generate_graph(solph_model.energy_system)"
   ]
  },
  {
   "cell_type": "code",
   "execution_count": null,
   "id": "2dd87ca4",
   "metadata": {},
   "outputs": [],
   "source": []
  }
 ],
 "metadata": {
  "interpreter": {
   "hash": "dcbc27de521dd0f1351d893a4043207b7c2b7677ba6a15a2e0b1e8e99b3a7c4a"
  },
  "kernelspec": {
   "display_name": "Python 3.10.4 64-bit ('oemof')",
   "language": "python",
   "name": "python3"
  },
  "language_info": {
   "codemirror_mode": {
    "name": "ipython",
    "version": 3
   },
   "file_extension": ".py",
   "mimetype": "text/x-python",
   "name": "python",
   "nbconvert_exporter": "python",
   "pygments_lexer": "ipython3",
   "version": "3.10.6"
  }
 },
 "nbformat": 4,
 "nbformat_minor": 5
}
