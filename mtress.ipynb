{
 "cells": [
  {
   "cell_type": "code",
   "execution_count": null,
   "id": "89aa95a1",
   "metadata": {},
   "outputs": [],
   "source": [
    "import yaml\n",
    "import oemof.solph\n",
    "\n",
    "from mtress import Location, MetaModel"
   ]
  },
  {
   "cell_type": "code",
   "execution_count": null,
   "id": "755b7dc8",
   "metadata": {},
   "outputs": [],
   "source": [
    "import pprint\n",
    "\n",
    "with open(\"example/test.yaml\") as fh:\n",
    "    cfg = yaml.safe_load(fh.read())\n",
    "\n",
    "# pprint.pprint(cfg)"
   ]
  },
  {
   "cell_type": "code",
   "execution_count": null,
   "id": "fe049ab8",
   "metadata": {},
   "outputs": [],
   "source": [
    "meta_model = MetaModel(config=cfg)"
   ]
  },
  {
   "cell_type": "code",
   "execution_count": null,
   "id": "087dcfd4",
   "metadata": {},
   "outputs": [],
   "source": [
    "from mtress._helpers._visualization import generate_graph"
   ]
  },
  {
   "cell_type": "code",
   "execution_count": null,
   "id": "990f37cb",
   "metadata": {},
   "outputs": [],
   "source": [
    "generate_graph(meta_model.energy_system)"
   ]
  }
 ],
 "metadata": {
  "interpreter": {
   "hash": "dcbc27de521dd0f1351d893a4043207b7c2b7677ba6a15a2e0b1e8e99b3a7c4a"
  },
  "kernelspec": {
   "display_name": "Python 3.10.4 64-bit ('oemof')",
   "language": "python",
   "name": "python3"
  },
  "language_info": {
   "codemirror_mode": {
    "name": "ipython",
    "version": 3
   },
   "file_extension": ".py",
   "mimetype": "text/x-python",
   "name": "python",
   "nbconvert_exporter": "python",
   "pygments_lexer": "ipython3",
   "version": "3.10.4"
  }
 },
 "nbformat": 4,
 "nbformat_minor": 5
}
