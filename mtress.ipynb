{
 "cells": [
  {
   "cell_type": "code",
   "execution_count": null,
   "id": "89aa95a1",
   "metadata": {},
   "outputs": [],
   "source": [
    "import yaml\n",
    "import oemof.solph\n",
    "\n",
    "from mtress import Location, MetaModel"
   ]
  },
  {
   "cell_type": "code",
   "execution_count": null,
   "id": "aa6e5406",
   "metadata": {},
   "outputs": [],
   "source": [
    "cfg_string = \"\"\"\n",
    "locations:\n",
    "  LocationA:\n",
    "    energy_cost:\n",
    "      electricity:\n",
    "        demand_rate: 15000  # €/MW\n",
    "        working: 300  # €/MWh\n",
    "      gas:\n",
    "        working_price: 95  # €/MWh\n",
    "        demand_rate: 5.5  # €/MW\n",
    "      wood_pellet: 300  # €/MWh\n",
    "    \n",
    "    meteorology:\n",
    "      temp_air: meteo.csv:temp_air\n",
    "      temp_soil: meteo.csv:temp_soil\n",
    "    \n",
    "    carriers:\n",
    "      Heat: # class name\n",
    "        reference_temperature: 10 # °C\n",
    "        temperature_levels:\n",
    "          - 35. # °C\n",
    "          - 60. # °C\n",
    "          - 80. # °C\n",
    "      Electricity:\n",
    "        grid_connection: True\n",
    "\n",
    "    demands:\n",
    "      Electricity:\n",
    "        time_series: demand.csv:electricity\n",
    "      SpaceHeating:\n",
    "        time_series: demand.csv:space_heating\n",
    "    \n",
    "    components:\n",
    "      air_source:\n",
    "        technology: AirHeatExchanger\n",
    "        parameters:\n",
    "          nominal_power: 7.\n",
    "          air_temperatures: .1\n",
    "      hp0:\n",
    "        technology: HeatPump\n",
    "        parameters:\n",
    "          cop_0_35: 2.\n",
    "          thermal_power_limit: 0.1 # MW\n",
    "      hs0:\n",
    "        technology: HeatStorage\n",
    "        parameters:\n",
    "          diameter: 1\n",
    "          volume: 10\n",
    "          insulation_thickness: .2\n",
    "          ambient_temperature: 10.\n",
    "\n",
    "\"\"\""
   ]
  },
  {
   "cell_type": "code",
   "execution_count": null,
   "id": "755b7dc8",
   "metadata": {},
   "outputs": [],
   "source": [
    "cfg = yaml.safe_load(cfg_string)\n",
    "print(cfg)"
   ]
  },
  {
   "cell_type": "code",
   "execution_count": null,
   "id": "fe049ab8",
   "metadata": {},
   "outputs": [],
   "source": [
    "meta_model = MetaModel(config=cfg)"
   ]
  },
  {
   "cell_type": "code",
   "execution_count": null,
   "id": "087dcfd4",
   "metadata": {},
   "outputs": [],
   "source": [
    "from mtress._helpers._visualization import generate_graph"
   ]
  },
  {
   "cell_type": "code",
   "execution_count": null,
   "id": "990f37cb",
   "metadata": {},
   "outputs": [],
   "source": [
    "generate_graph(meta_model.energy_system)"
   ]
  },
  {
   "cell_type": "code",
   "execution_count": null,
   "id": "9e36a64f",
   "metadata": {},
   "outputs": [],
   "source": [
    "meta_model.energy_system.nodes"
   ]
  },
  {
   "cell_type": "code",
   "execution_count": null,
   "id": "6e502492",
   "metadata": {},
   "outputs": [],
   "source": [
    "import numpy as np"
   ]
  },
  {
   "cell_type": "code",
   "execution_count": null,
   "id": "764d4a2a",
   "metadata": {},
   "outputs": [],
   "source": [
    "v = [ 1.1, 2.2, 3.3, 4.4]"
   ]
  },
  {
   "cell_type": "code",
   "execution_count": null,
   "id": "c7206b03",
   "metadata": {},
   "outputs": [],
   "source": [
    "i = np.searchsorted(v, 1)\n",
    "v[i-1], i"
   ]
  },
  {
   "cell_type": "code",
   "execution_count": null,
   "id": "b01700a0",
   "metadata": {},
   "outputs": [],
   "source": []
  }
 ],
 "metadata": {
  "interpreter": {
   "hash": "dcbc27de521dd0f1351d893a4043207b7c2b7677ba6a15a2e0b1e8e99b3a7c4a"
  },
  "kernelspec": {
   "display_name": "Python 3.10.4 64-bit ('oemof')",
   "language": "python",
   "name": "python3"
  },
  "language_info": {
   "codemirror_mode": {
    "name": "ipython",
    "version": 3
   },
   "file_extension": ".py",
   "mimetype": "text/x-python",
   "name": "python",
   "nbconvert_exporter": "python",
   "pygments_lexer": "ipython3",
   "version": "3.10.4"
  }
 },
 "nbformat": 4,
 "nbformat_minor": 5
}
